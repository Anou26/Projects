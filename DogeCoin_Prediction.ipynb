{
  "nbformat": 4,
  "nbformat_minor": 0,
  "metadata": {
    "colab": {
      "name": "DogeCoin Prediction",
      "provenance": [],
      "authorship_tag": "ABX9TyNN7xjt/CRr/3PnFqXq/m3C",
      "include_colab_link": true
    },
    "kernelspec": {
      "name": "python3",
      "display_name": "Python 3"
    },
    "language_info": {
      "name": "python"
    }
  },
  "cells": [
    {
      "cell_type": "markdown",
      "metadata": {
        "id": "view-in-github",
        "colab_type": "text"
      },
      "source": [
        "<a href=\"https://colab.research.google.com/github/Anou26/Projects/blob/main/DogeCoin_Prediction.ipynb\" target=\"_parent\"><img src=\"https://colab.research.google.com/assets/colab-badge.svg\" alt=\"Open In Colab\"/></a>"
      ]
    },
    {
      "cell_type": "markdown",
      "source": [
        "Importing Libraries"
      ],
      "metadata": {
        "id": "3SBToGIewjLY"
      }
    },
    {
      "cell_type": "code",
      "execution_count": null,
      "metadata": {
        "id": "7AfCCsozwVSD"
      },
      "outputs": [],
      "source": [
        "import numpy as np\n",
        "import pandas as pd\n",
        "import matplotlib.pyplot as plt\n",
        "import tensorflow as tf\n",
        "\n",
        "%matplotlib inline"
      ]
    },
    {
      "cell_type": "markdown",
      "source": [
        "Preprocessing Data"
      ],
      "metadata": {
        "id": "d3aKurGawxcl"
      }
    },
    {
      "cell_type": "markdown",
      "source": [
        "Importing Dataset\n"
      ],
      "metadata": {
        "id": "fVV8-A_Lw2qm"
      }
    },
    {
      "cell_type": "code",
      "source": [
        "dataset = pd.read_csv(\"https://raw.githubusercontent.com/RohitGanji/dogecoin-price-prediction/main/DOGE-USD.csv\",\n",
        "                      parse_dates=[\"Date\"])"
      ],
      "metadata": {
        "id": "mTvGlRPnw6Wp"
      },
      "execution_count": null,
      "outputs": []
    },
    {
      "cell_type": "code",
      "source": [
        "dataset.head()"
      ],
      "metadata": {
        "id": "tXse1tJ_xGz4"
      },
      "execution_count": null,
      "outputs": []
    },
    {
      "cell_type": "code",
      "source": [
        "dataset.tail()"
      ],
      "metadata": {
        "id": "mZA6lOn1xDlW"
      },
      "execution_count": null,
      "outputs": []
    },
    {
      "cell_type": "markdown",
      "source": [
        "Checking for null values"
      ],
      "metadata": {
        "id": "3L7yDjlYxLE-"
      }
    },
    {
      "cell_type": "code",
      "source": [
        "dataset.isnull().sum()"
      ],
      "metadata": {
        "id": "F5gFOJInxJJ_"
      },
      "execution_count": null,
      "outputs": []
    },
    {
      "cell_type": "markdown",
      "source": [
        "Visualizing the data"
      ],
      "metadata": {
        "id": "Ayss912nxSbn"
      }
    },
    {
      "cell_type": "code",
      "source": [
        "plt.figure(figsize=(27,7))\n",
        "dataset.groupby('Date')['Closing Price (USD)'].median().plot(linewidth=3.5, color='r')\n",
        "plt.xlabel('Date', fontsize=16)\n",
        "plt.ylabel('Closing Price (USD)', fontsize=16)\n",
        "plt.title(\"Date vs Closing Price (USD)\", fontsize=18)\n",
        "plt.grid(True);"
      ],
      "metadata": {
        "id": "CmcwrIhTxQV_"
      },
      "execution_count": null,
      "outputs": []
    },
    {
      "cell_type": "code",
      "source": [
        "plt.figure(figsize=(27,7))\n",
        "dataset.groupby('Date')['24h Open (USD)'].median().plot(linewidth = 3.5, color = 'y')\n",
        "plt.xlabel('Date', fontsize=16)\n",
        "plt.ylabel('24h Open (USD)', fontsize=16)\n",
        "plt.title(\"Date vs 24h Open (USD)\", fontsize=18)\n",
        "plt.grid(True);"
      ],
      "metadata": {
        "id": "MmHfBsZ4xR2k"
      },
      "execution_count": null,
      "outputs": []
    },
    {
      "cell_type": "code",
      "source": [
        "plt.figure(figsize=(27,7))\n",
        "dataset.groupby('Date')['24h High (USD)'].median().plot(linewidth=3.5, color='b')\n",
        "plt.xlabel('Date', fontsize=16)\n",
        "plt.ylabel('24h High (USD)', fontsize=16)\n",
        "plt.title(\"Date vs 24h High (USD)\", fontsize=18)\n",
        "plt.grid(True);"
      ],
      "metadata": {
        "id": "pUp97_I7xbK7"
      },
      "execution_count": null,
      "outputs": []
    },
    {
      "cell_type": "code",
      "source": [
        "plt.figure(figsize=(27,7))\n",
        "dataset.groupby('Date')['24h Low (USD)'].median().plot(linewidth=3.5, color='g')\n",
        "plt.xlabel('Date', fontsize=16)\n",
        "plt.ylabel('24h Low (USD)', fontsize=16)\n",
        "plt.title(\"Date vs 24h Low (USD)\", fontsize=18)\n",
        "plt.grid(True);"
      ],
      "metadata": {
        "id": "o8QmANmcxeSy"
      },
      "execution_count": null,
      "outputs": []
    },
    {
      "cell_type": "code",
      "source": [
        "subset = pd.read_csv(\"https://raw.githubusercontent.com/RohitGanji/dogecoin-price-prediction/main/DOGE-USD.csv\", parse_dates=[\"Date\"], index_col=\"Date\",\n",
        "                      usecols=[\"Date\", \"Closing Price (USD)\"])\n",
        "subset.columns = [\"Price\"]"
      ],
      "metadata": {
        "id": "0KIIqDbnxhJ4"
      },
      "execution_count": null,
      "outputs": []
    },
    {
      "cell_type": "markdown",
      "source": [
        "Generating a windowed dataset"
      ],
      "metadata": {
        "id": "MQEoGRZMxmbB"
      }
    },
    {
      "cell_type": "code",
      "source": [
        "HORIZON = 1\n",
        "WINDOW_SIZE = 7\n",
        "\n",
        "windowed_dataset = subset.copy()\n",
        "\n",
        "for i in range(WINDOW_SIZE):\n",
        "  windowed_dataset[f\"Price+{i+1}\"] = windowed_dataset[f\"Price\"].shift(periods=i+1)\n",
        "\n",
        "windowed_dataset.head(10)"
      ],
      "metadata": {
        "id": "tse4siZYxknj"
      },
      "execution_count": null,
      "outputs": []
    },
    {
      "cell_type": "code",
      "source": [
        "X = windowed_dataset.dropna().drop(\"Price\", axis=1).astype(np.float32)\n",
        "y = windowed_dataset.dropna()[\"Price\"].astype(np.float32).to_frame()\n",
        "print(X.shape, y.shape)"
      ],
      "metadata": {
        "id": "mhmSb7JXxt-h"
      },
      "execution_count": null,
      "outputs": []
    },
    {
      "cell_type": "code",
      "source": [
        "X.head()"
      ],
      "metadata": {
        "id": "knJHikboxwcT"
      },
      "execution_count": null,
      "outputs": []
    },
    {
      "cell_type": "code",
      "source": [
        "y.head()"
      ],
      "metadata": {
        "id": "O0uVMqluxysl"
      },
      "execution_count": null,
      "outputs": []
    },
    {
      "cell_type": "markdown",
      "source": [
        "Splitting the dataset"
      ],
      "metadata": {
        "id": "5r_PKzuGx2h9"
      }
    },
    {
      "cell_type": "code",
      "source": [
        "split_size = int(len(X) * 0.8)\n",
        "X_train, y_train = X[:split_size].values, y[:split_size].values\n",
        "X_test, y_test = X[split_size:].values, y[split_size:].values\n",
        "len(X_train), len(y_train), len(X_test), len(y_test)"
      ],
      "metadata": {
        "id": "ngx_l27lx05K"
      },
      "execution_count": null,
      "outputs": []
    },
    {
      "cell_type": "code",
      "source": [
        "plt.figure(figsize=(15, 7))\n",
        "plt.plot(windowed_dataset.Price[:split_size], label=\"Train Data\", linewidth=2.5)\n",
        "plt.plot(windowed_dataset.Price[split_size-1:], label=\"Test Data\", linewidth=2.5)\n",
        "plt.xlabel(\"Time\", fontsize=14)\n",
        "plt.ylabel(\"DogeCoin Price (USD)\", fontsize=14)\n",
        "plt.title(\"Train Data & Test Data\", fontsize=18);\n",
        "plt.legend(fontsize=14)\n",
        "plt.grid(True);"
      ],
      "metadata": {
        "id": "IaeqlDzXx7Yh"
      },
      "execution_count": null,
      "outputs": []
    },
    {
      "cell_type": "markdown",
      "source": [
        "Modelling"
      ],
      "metadata": {
        "id": "DFiDvrU6yAqW"
      }
    },
    {
      "cell_type": "code",
      "source": [
        "#Building and compiling the model\n",
        "from tensorflow.keras import layers\n",
        "\n",
        "model = tf.keras.Sequential([\n",
        "      layers.Lambda(lambda x: tf.expand_dims(x, axis=1)),\n",
        "      layers.Bidirectional(layers.LSTM(WINDOW_SIZE, return_sequences=True),\n",
        "                           input_shape=(WINDOW_SIZE, X_train.shape[-1])),\n",
        "      layers.Dropout(0.2),\n",
        "      layers.Bidirectional(layers.LSTM(WINDOW_SIZE*2, return_sequences=True)),\n",
        "      layers.Dense(HORIZON, activation=\"linear\")\n",
        "])\n",
        "\n",
        "model.compile(loss=\"mse\",\n",
        "              optimizer=tf.keras.optimizers.Adam(learning_rate=0.01),\n",
        "              metrics=[\"mae\"])"
      ],
      "metadata": {
        "id": "pKUo8d7Vx-pO"
      },
      "execution_count": null,
      "outputs": []
    },
    {
      "cell_type": "code",
      "source": [
        "#Creating a callback\n",
        "from tensorflow.keras.callbacks import EarlyStopping\n",
        "\n",
        "callbacks = [EarlyStopping(monitor=\"val_loss\",\n",
        "                           patience=15,\n",
        "                           restore_best_weights=True)]"
      ],
      "metadata": {
        "id": "pw2i2ssqyHrp"
      },
      "execution_count": null,
      "outputs": []
    },
    {
      "cell_type": "code",
      "source": [
        "#Fitting the model\n",
        "history = model.fit(X_train, y_train,\n",
        "                    epochs=1000, batch_size=64,\n",
        "                    validation_data=(X_test, y_test),\n",
        "                    callbacks=callbacks)"
      ],
      "metadata": {
        "id": "WGX1j9XFyLYU"
      },
      "execution_count": null,
      "outputs": []
    },
    {
      "cell_type": "code",
      "source": [
        "model.summary()"
      ],
      "metadata": {
        "id": "_V5XgaPXyPN0"
      },
      "execution_count": null,
      "outputs": []
    },
    {
      "cell_type": "code",
      "source": [
        "tf.keras.utils.plot_model(model)"
      ],
      "metadata": {
        "id": "Cwy1O42pySQA"
      },
      "execution_count": null,
      "outputs": []
    },
    {
      "cell_type": "code",
      "source": [
        "#visualizing the loss\n",
        "epochs = list(range(1, len(history.epoch)+1))\n",
        "plt.figure(figsize=(10,7))\n",
        "plt.plot(epochs, history.history[\"loss\"], label=\"Loss\", linewidth=2.5)\n",
        "plt.plot(epochs, history.history[\"val_loss\"], label=\"Validaiton Loss\", linewidth=2.5)\n",
        "plt.xlabel(\"Epoch\", fontsize=14)\n",
        "plt.ylabel(\"Loss\", fontsize=14)\n",
        "plt.title(\"Epoch vs Loss\", fontsize=18);\n",
        "plt.legend(fontsize=14)\n",
        "plt.grid(True);"
      ],
      "metadata": {
        "id": "_-ce5KIIyVUM"
      },
      "execution_count": null,
      "outputs": []
    },
    {
      "cell_type": "code",
      "source": [
        "#predictions\n",
        "results = np.squeeze(model.predict(X_test))\n",
        "preds = pd.DataFrame(results, y[split_size:].index)\n"
      ],
      "metadata": {
        "id": "RFuF-ubcyaqs"
      },
      "execution_count": null,
      "outputs": []
    },
    {
      "cell_type": "code",
      "source": [
        "mae = tf.reduce_mean(tf.keras.metrics.mean_absolute_error(y_test, results)).numpy()\n",
        "mse = tf.reduce_mean(tf.keras.metrics.mean_squared_error(y_test, results)).numpy()\n",
        "mape = tf.reduce_mean(tf.keras.metrics.mean_absolute_percentage_error(y_test, results)).numpy()\n",
        "\n",
        "print(\"mae:\", mae)\n",
        "print(\"mse:\", mse)\n",
        "print(\"rmse:\", tf.sqrt(mse).numpy())\n",
        "print(\"mape:\", mape)"
      ],
      "metadata": {
        "id": "rqBq7S90ygR5"
      },
      "execution_count": null,
      "outputs": []
    },
    {
      "cell_type": "code",
      "source": [
        "plt.figure(figsize=(15, 7))\n",
        "plt.plot(y[split_size:], label=\"Test Data\", linewidth=2.5)\n",
        "# plt.plot(preds, label=\"Predicted Data\", linewidth=2.5)\n",
        "plt.xlabel(\"Time\", fontsize=16)\n",
        "plt.ylabel(\"DogeCoin Price\", fontsize=16)\n",
        "plt.title(\"Test Data vs Predicted Data\", fontsize=18);\n",
        "plt.legend(fontsize=14)\n",
        "plt.grid(True);"
      ],
      "metadata": {
        "id": "mcFCzOSSyiv1"
      },
      "execution_count": null,
      "outputs": []
    },
    {
      "cell_type": "code",
      "source": [
        ""
      ],
      "metadata": {
        "id": "Jstac3pFyk8h"
      },
      "execution_count": null,
      "outputs": []
    }
  ]
}