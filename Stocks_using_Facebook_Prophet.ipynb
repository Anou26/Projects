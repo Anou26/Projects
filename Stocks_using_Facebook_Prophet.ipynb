{
  "nbformat": 4,
  "nbformat_minor": 0,
  "metadata": {
    "colab": {
      "name": "Stocks using Facebook Prophet.ipynb",
      "provenance": [],
      "authorship_tag": "ABX9TyOOM660ckeqjghlpcISJ/8/",
      "include_colab_link": true
    },
    "kernelspec": {
      "name": "python3",
      "display_name": "Python 3"
    },
    "language_info": {
      "name": "python"
    }
  },
  "cells": [
    {
      "cell_type": "markdown",
      "metadata": {
        "id": "view-in-github",
        "colab_type": "text"
      },
      "source": [
        "<a href=\"https://colab.research.google.com/github/Anou26/Projects/blob/main/Stocks_using_Facebook_Prophet.ipynb\" target=\"_parent\"><img src=\"https://colab.research.google.com/assets/colab-badge.svg\" alt=\"Open In Colab\"/></a>"
      ]
    },
    {
      "cell_type": "code",
      "execution_count": 1,
      "metadata": {
        "colab": {
          "base_uri": "https://localhost:8080/",
          "height": 374
        },
        "id": "opJQ0YLuU7Jx",
        "outputId": "53078cbe-9981-4803-8908-1d6e434b61ae"
      },
      "outputs": [
        {
          "output_type": "error",
          "ename": "ModuleNotFoundError",
          "evalue": "ignored",
          "traceback": [
            "\u001b[0;31m---------------------------------------------------------------------------\u001b[0m",
            "\u001b[0;31mModuleNotFoundError\u001b[0m                       Traceback (most recent call last)",
            "\u001b[0;32m<ipython-input-1-0f990c4bb3a3>\u001b[0m in \u001b[0;36m<module>\u001b[0;34m()\u001b[0m\n\u001b[0;32m----> 1\u001b[0;31m \u001b[0;32mimport\u001b[0m \u001b[0mstreamlit\u001b[0m \u001b[0;32mas\u001b[0m \u001b[0mst\u001b[0m\u001b[0;34m\u001b[0m\u001b[0;34m\u001b[0m\u001b[0m\n\u001b[0m\u001b[1;32m      2\u001b[0m \u001b[0;32mfrom\u001b[0m \u001b[0mdatetime\u001b[0m \u001b[0;32mimport\u001b[0m \u001b[0mdate\u001b[0m\u001b[0;34m\u001b[0m\u001b[0;34m\u001b[0m\u001b[0m\n\u001b[1;32m      3\u001b[0m \u001b[0;32mimport\u001b[0m \u001b[0mpandas\u001b[0m \u001b[0;32mas\u001b[0m \u001b[0mpd\u001b[0m\u001b[0;34m\u001b[0m\u001b[0;34m\u001b[0m\u001b[0m\n\u001b[1;32m      4\u001b[0m \u001b[0;32mimport\u001b[0m \u001b[0mnumpy\u001b[0m \u001b[0;32mas\u001b[0m \u001b[0mnp\u001b[0m\u001b[0;34m\u001b[0m\u001b[0;34m\u001b[0m\u001b[0m\n\u001b[1;32m      5\u001b[0m \u001b[0;32mimport\u001b[0m \u001b[0myfinance\u001b[0m \u001b[0;32mas\u001b[0m \u001b[0myf\u001b[0m\u001b[0;34m\u001b[0m\u001b[0;34m\u001b[0m\u001b[0m\n",
            "\u001b[0;31mModuleNotFoundError\u001b[0m: No module named 'streamlit'",
            "",
            "\u001b[0;31m---------------------------------------------------------------------------\u001b[0;32m\nNOTE: If your import is failing due to a missing package, you can\nmanually install dependencies using either !pip or !apt.\n\nTo view examples of installing some common dependencies, click the\n\"Open Examples\" button below.\n\u001b[0;31m---------------------------------------------------------------------------\u001b[0m\n"
          ],
          "errorDetails": {
            "actions": [
              {
                "action": "open_url",
                "actionText": "Open Examples",
                "url": "/notebooks/snippets/importing_libraries.ipynb"
              }
            ]
          }
        }
      ],
      "source": [
        "import streamlit as st\n",
        "from datetime import date\n",
        "import pandas as pd\n",
        "import numpy as np\n",
        "import yfinance as yf\n",
        "from fbprophet import Prophet\n",
        "from fbprophet.plot import plot_plotly\n",
        "from plotly import graph_objs as go\n",
        "from get_all_tickers import get_tickers as gt\n",
        "\n",
        "START = \"2014-01-01\"\n",
        "TODAY = date.today().strftime(\"%Y-%m-%d\")\n",
        "\n",
        "st.title('Stock Forecast App')\n",
        "\n",
        "# ticker_list = pd.read_csv('https://raw.githubusercontent.com/dataprofessor/s-and-p-500-companies/master/data/constituents_symbols.txt')\n",
        "# tickerSymbol = st.sidebar.selectbox('Stock ticker', ticker_list)\n",
        "# stocks= yf.Ticker(tickerSymbol)\n",
        "stocks = ('GOOG', 'AAPL', 'MSFT', 'GME')\n",
        "# stocks = gt.get_tickers()\n",
        "selected_stock = st.selectbox('Select dataset for prediction', stocks)\n",
        "\n",
        "n_years = st.slider('Years of prediction:', 1, 4)\n",
        "period = n_years * 365\n",
        "\n",
        "\n",
        "@st.cache\n",
        "def load_data(ticker):\n",
        "    data = yf.download(ticker, START, TODAY)\n",
        "    data.reset_index(inplace=True)\n",
        "    return data\n",
        "\n",
        "    \n",
        "data_load_state = st.text('Loading data...')\n",
        "data = load_data(selected_stock)\n",
        "data_load_state.text('Loading data... done!')\n",
        "\n",
        "st.subheader('Raw data')\n",
        "st.write(data.tail())\n",
        "\n",
        "# Plot raw data\n",
        "def plot_raw_data():\n",
        "    fig = go.Figure()\n",
        "    fig.add_trace(go.Scatter(x=data['Date'], y=data['Open'], name=\"stock_open\"))\n",
        "    fig.add_trace(go.Scatter(x=data['Date'], y=data['Close'], name=\"stock_close\"))\n",
        "    fig.layout.update(title_text='Time Series data with Rangeslider', xaxis_rangeslider_visible=True)\n",
        "    st.plotly_chart(fig)\n",
        "    \n",
        "plot_raw_data()\n",
        "\n",
        "# Predict forecast with Prophet.\n",
        "df_train = data[['Date','Close']]\n",
        "df_train = df_train.rename(columns={\"Date\": \"ds\", \"Close\": \"y\"})\n",
        "\n",
        "m = Prophet()\n",
        "m.fit(df_train)\n",
        "future = m.make_future_dataframe(periods=period)\n",
        "forecast = m.predict(future)\n",
        "\n",
        "# Show and plot forecast\n",
        "st.subheader('Forecast data')\n",
        "st.write(forecast.tail())\n",
        "    \n",
        "st.write(f'Forecast plot for {n_years} years')\n",
        "fig1 = plot_plotly(m, forecast)\n",
        "st.plotly_chart(fig1)\n",
        "\n",
        "st.write(\"Forecast components\")\n",
        "fig2 = m.plot_components(forecast)\n",
        "st.write(fig2)"
      ]
    }
  ]
}